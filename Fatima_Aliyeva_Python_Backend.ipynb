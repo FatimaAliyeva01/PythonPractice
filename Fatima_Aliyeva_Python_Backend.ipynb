{
  "nbformat": 4,
  "nbformat_minor": 0,
  "metadata": {
    "colab": {
      "name": "Fatima/Aliyeva/Python/Backend.ipynb",
      "provenance": [],
      "collapsed_sections": [],
      "authorship_tag": "ABX9TyOOnrvyCmvUfwHaNuTa531G",
      "include_colab_link": true
    },
    "kernelspec": {
      "name": "python3",
      "display_name": "Python 3"
    },
    "language_info": {
      "name": "python"
    }
  },
  "cells": [
    {
      "cell_type": "markdown",
      "metadata": {
        "id": "view-in-github",
        "colab_type": "text"
      },
      "source": [
        "<a href=\"https://colab.research.google.com/github/FatimaAliyeva01/PythonPractice/blob/master/Fatima_Aliyeva_Python_Backend.ipynb\" target=\"_parent\"><img src=\"https://colab.research.google.com/assets/colab-badge.svg\" alt=\"Open In Colab\"/></a>"
      ]
    },
    {
      "cell_type": "code",
      "metadata": {
        "id": "iidVbRfh-lO5"
      },
      "source": [
        "#[PythonPractice] Aşağıdakı kiçik tasklar yazılmalıdır\n",
        "#Verilən str='Proqramalaşdırma nə qədər çox şey bildiyinizlə yox, bildiyinizlə ortaya çıxardığınız işlərlə maraqlanır'\n",
        "#str daxilində neçə xarakter olduğunu ekrana yazdırın\n",
        "#str daxilində neçə hərf olduğunu ekrana yazdırın.\n",
        "#str daxilindəki sözləri ayrı bir massiv içərisində toplayın\n",
        "#str daxilində neçə sait və neçə samit olduğunu ekrana çap edin\n",
        "#str daxilində son iki sözü silən metod yazın\n",
        "#str ni vergülə görə ayırıb iki string halına gətirin\n",
        "#stringSearch(word) adında bir metod yazın. daxil edilən sözün mətnin içində olub olmadığını ekrana çap edən metod yazın\n",
        "#Verilən nums=[1,2,3,6,7,8,23,78,34,12] \n",
        "#Ədədlərin cəmini tapan metod yazın\n",
        "#Ədədlərin böyükdən kiçiyə doğru sıralayın\n",
        "#Ədədlər arasında rəqəmlərinin cəmi ən böyük olan ədədi tapın\n",
        "#Ədədlərin kvadratlarının olduğu yeni bir massiv yaradan metod yazın\n",
        "#Tək ədədlərin cəmini tapan metod yazın\n",
        "#Daxilində 3 rəqəmi olan neçə ədəd olduğunu ekrana çap edən metod yazın\n",
        "#Tək ədədləri ayıraraq ayrıca bir massivə yığan metod yazın \n",
        "#Başlama Tarixi : 1 Sentyabr 23:59\n",
        "#Təhvil Tarixi : 3 Sentyabr 23:59"
      ],
      "execution_count": null,
      "outputs": []
    },
    {
      "cell_type": "code",
      "metadata": {
        "colab": {
          "base_uri": "https://localhost:8080/"
        },
        "id": "SaIySopD_ddf",
        "outputId": "eac10bb6-4a3e-47a7-c209-5001f9df0dc0"
      },
      "source": [
        "#str daxilində neçə xarakter olduğunu ekrana yazdırın\n",
        "#Verilən str='Proqramalaşdırma nə qədər çox şey bildiyinizlə yox, bildiyinizlə ortaya çıxardığınız işlərlə maraqlanır'\n",
        "str='Proqramalaşdırma nə qədər çox şey bildiyinizlə yox, bildiyinizlə ortaya çıxardığınız işlərlə maraqlanır'\n",
        "\n",
        "len(str)"
      ],
      "execution_count": null,
      "outputs": [
        {
          "output_type": "execute_result",
          "data": {
            "text/plain": [
              "103"
            ]
          },
          "metadata": {},
          "execution_count": 88
        }
      ]
    },
    {
      "cell_type": "code",
      "metadata": {
        "colab": {
          "base_uri": "https://localhost:8080/"
        },
        "id": "dglLC6EH_i4i",
        "outputId": "e24708d2-b6b1-4600-b04a-238ea6e0f61a"
      },
      "source": [
        "#str daxilində neçə hərf olduğunu ekrana yazdırın.\n",
        "#Verilən str='Proqramalaşdırma nə qədər çox şey bildiyinizlə yox, bildiyinizlə ortaya çıxardığınız işlərlə maraqlanır'\n",
        "str='Proqramalaşdırma nə qədər çox şey bildiyinizlə yox, bildiyinizlə ortaya çıxardığınız işlərlə maraqlanır'  \n",
        "ümumi_rəqəmlər = 0\n",
        "ümumi_hərflər = 0\n",
        "  \n",
        "for s in str:\n",
        "  \n",
        "    # if  rəqəmdirsə (Doğruya dön)\n",
        "    if s.isnumeric():\n",
        "        ümumi_rəqəmlər += 1\n",
        "  \n",
        "    # if  hərfdirsə (Doğruya dön)\n",
        "\n",
        "    else:\n",
        "        ümumi_hərflər += 1\n",
        "  \n",
        "print(\"Tapılan cəmi hərflər :\", ümumi_hərflər)\n",
        "print(\"Tapılan cəmi rəqəmlər :\", ümumi_rəqəmlər)"
      ],
      "execution_count": null,
      "outputs": [
        {
          "output_type": "stream",
          "name": "stdout",
          "text": [
            "Tapılan cəmi hərflər : 103\n",
            "Tapılan cəmi rəqəmlər : 0\n"
          ]
        }
      ]
    },
    {
      "cell_type": "code",
      "metadata": {
        "colab": {
          "base_uri": "https://localhost:8080/"
        },
        "id": "7OP8sphX_dgX",
        "outputId": "94064a40-d8f1-44cc-f000-c47d50ccc30e"
      },
      "source": [
        "#str daxilindəki sözləri ayrı bir massiv içərisində toplayın\n",
        "#Verilən str='Proqramalaşdırma nə qədər çox şey bildiyinizlə yox, bildiyinizlə ortaya çıxardığınız işlərlə maraqlanır'\n",
        "str = 'Proqramalaşdırma nə qədər çox şey bildiyinizlə yox, bildiyinizlə ortaya çıxardığınız işlərlə maraqlanır'\n",
        "a = list(str.split(\" \")) \n",
        "print(a)"
      ],
      "execution_count": null,
      "outputs": [
        {
          "output_type": "stream",
          "name": "stdout",
          "text": [
            "['Proqramalaşdırma', 'nə', 'qədər', 'çox', 'şey', 'bildiyinizlə', 'yox,', 'bildiyinizlə', 'ortaya', 'çıxardığınız', 'işlərlə', 'maraqlanır']\n"
          ]
        }
      ]
    },
    {
      "cell_type": "code",
      "metadata": {
        "colab": {
          "base_uri": "https://localhost:8080/"
        },
        "id": "EH29saJqDC3g",
        "outputId": "d70450b9-ddae-4c54-e2cd-56a375a9dfea"
      },
      "source": [
        "#str daxilində neçə sait və neçə samit olduğunu ekrana çap edin\n",
        "#Verilən str='Proqramalaşdırma nə qədər çox şey bildiyinizlə yox, bildiyinizlə ortaya çıxardığınız işlərlə maraqlanır'\n",
        "\n",
        "str=input(\"Zəhmət olmasa istədiyiniz söz və ya cümlə daxil edin: \");\n",
        "saitlər=0\n",
        "samitlər=0\n",
        "for i in str:\n",
        "    if(i == 'A'or i == 'a'or i == 'I'or i == 'ı'or i == 'O' or\n",
        "       i == 'o'or i=='U' or i=='u' or i == 'E'or i == 'e'or i == 'Ə'or i == 'ə' or \n",
        "       i == 'Ö' or i ==\"ö\" or i =='Ü' or i =='ü' or i == 'İ' or i =='i'):\n",
        "           saitlər=saitlər+1;\n",
        "    else:\n",
        "        samitlər=samitlər+1;\n",
        "\n",
        "print(\"Saitlərin sayı:\",saitlər);\n",
        "print(\"\\nSamitlərin sayı:\",samitlər);"
      ],
      "execution_count": null,
      "outputs": [
        {
          "output_type": "stream",
          "name": "stdout",
          "text": [
            "Zəhmət olmasa istədiyiniz söz və ya cümlə daxil edin: Proqramalaşdırma nə qədər çox şey bildiyinizlə yox, bildiyinizlə ortaya çıxardığınız işlərlə maraqlanır\n",
            "Saitlərin sayı: 37\n",
            "\n",
            "Samitlərin sayı: 66\n"
          ]
        }
      ]
    },
    {
      "cell_type": "code",
      "metadata": {
        "colab": {
          "base_uri": "https://localhost:8080/",
          "height": 35
        },
        "id": "iF9L_Yu6KUJf",
        "outputId": "bf0bd7bd-0cd0-4d7b-da29-5bb029f9b41e"
      },
      "source": [
        "#str daxilində son iki sözü silən metod yazın\n",
        "#Verilən str='Proqramalaşdırma nə qədər çox şey bildiyinizlə yox, bildiyinizlə ortaya çıxardığınız işlərlə maraqlanır'\n",
        "\n",
        "str='Proqramalaşdırma nə qədər çox şey bildiyinizlə yox, bildiyinizlə ortaya çıxardığınız işlərlə maraqlanır'\n",
        "\n",
        "str.rsplit(' ', 2)[0]"
      ],
      "execution_count": null,
      "outputs": [
        {
          "output_type": "execute_result",
          "data": {
            "application/vnd.google.colaboratory.intrinsic+json": {
              "type": "string"
            },
            "text/plain": [
              "'Proqramalaşdırma nə qədər çox şey bildiyinizlə yox, bildiyinizlə ortaya çıxardığınız'"
            ]
          },
          "metadata": {},
          "execution_count": 11
        }
      ]
    },
    {
      "cell_type": "code",
      "metadata": {
        "colab": {
          "base_uri": "https://localhost:8080/"
        },
        "id": "sKphwN4F_djD",
        "outputId": "2e803551-cc23-4652-aa41-52f52bdc36c7"
      },
      "source": [
        "#str ni vergülə görə ayırıb iki string halına gətirin\n",
        "#Verilən str='Proqramalaşdırma nə qədər çox şey bildiyinizlə yox, bildiyinizlə ortaya çıxardığınız işlərlə maraqlanır'\n",
        "str='Proqramalaşdırma nə qədər çox şey bildiyinizlə yox, bildiyinizlə ortaya çıxardığınız işlərlə maraqlanır'\n",
        "str = str.split(\",\")\n",
        "str\n"
      ],
      "execution_count": null,
      "outputs": [
        {
          "output_type": "execute_result",
          "data": {
            "text/plain": [
              "['Proqramalaşdırma nə qədər çox şey bildiyinizlə yox',\n",
              " ' bildiyinizlə ortaya çıxardığınız işlərlə maraqlanır']"
            ]
          },
          "metadata": {},
          "execution_count": 5
        }
      ]
    },
    {
      "cell_type": "code",
      "metadata": {
        "colab": {
          "base_uri": "https://localhost:8080/"
        },
        "id": "ltkt3t-G_dlq",
        "outputId": "fd8189cf-15f1-4b32-e809-84d8faaedca5"
      },
      "source": [
        "#stringSearch(word) adında bir metod yazın. daxil edilən sözün mətnin içində olub olmadığını ekrana çap edən metod yazın\n",
        "#Verilən str='Proqramalaşdırma nə qədər çox şey bildiyinizlə yox, bildiyinizlə ortaya çıxardığınız işlərlə maraqlanır.\n",
        "str='Proqramalaşdırma nə qədər çox şey bildiyinizlə yox, bildiyinizlə ortaya çıxardığınız işlərlə maraqlanır'\n",
        "if \"ortaya\" in str:\n",
        "  print(\"Daxildi\")\n",
        "else:\n",
        "  print(\"Daxil deyil\")"
      ],
      "execution_count": null,
      "outputs": [
        {
          "output_type": "stream",
          "name": "stdout",
          "text": [
            "Daxildi\n"
          ]
        }
      ]
    },
    {
      "cell_type": "code",
      "metadata": {
        "colab": {
          "base_uri": "https://localhost:8080/"
        },
        "id": "RtLDMbo_RPAe",
        "outputId": "29fd0642-5812-4a05-fa42-55e453d02a0f"
      },
      "source": [
        "#stringSearch(word) adında bir metod yazın. daxil edilən sözün mətnin içində olub olmadığını ekrana çap edən metod yazın\n",
        "#Verilən str='Proqramalaşdırma nə qədər çox şey bildiyinizlə yox, bildiyinizlə ortaya çıxardığınız işlərlə maraqlanır'\n",
        "\n",
        "str='Proqramalaşdırma nə qədər çox şey bildiyinizlə yox, bildiyinizlə ortaya çıxardığınız işlərlə maraqlanır'\n",
        "\"World\" in str\n"
      ],
      "execution_count": null,
      "outputs": [
        {
          "output_type": "execute_result",
          "data": {
            "text/plain": [
              "False"
            ]
          },
          "metadata": {},
          "execution_count": 52
        }
      ]
    },
    {
      "cell_type": "code",
      "metadata": {
        "colab": {
          "base_uri": "https://localhost:8080/"
        },
        "id": "4m5dwpDKNVUO",
        "outputId": "be15da52-376b-484c-d0ec-bc4744b2b13f"
      },
      "source": [
        "#Ədədlərin cəmini tapan metod yazın\n",
        "#Verilən nums=[1,2,3,6,7,8,23,78,34,12] \n",
        "\n",
        "nums=[1,2,3,6,7,8,23,78,34,12]\n",
        "print(sum(nums))\n"
      ],
      "execution_count": null,
      "outputs": [
        {
          "output_type": "stream",
          "name": "stdout",
          "text": [
            "174\n"
          ]
        }
      ]
    },
    {
      "cell_type": "code",
      "metadata": {
        "colab": {
          "base_uri": "https://localhost:8080/"
        },
        "id": "AEWGHBkh_doW",
        "outputId": "8e219057-c16f-4fb4-c46e-fde876497550"
      },
      "source": [
        "#Ədədlərin böyükdən kiçiyə doğru sıralayın\n",
        "#Verilən nums=[1,2,3,6,7,8,23,78,34,12] \n",
        "\n",
        "nums=[1,2,3,6,7,8,23,78,34,12]\n",
        "nums.sort()\n",
        "nums"
      ],
      "execution_count": null,
      "outputs": [
        {
          "output_type": "execute_result",
          "data": {
            "text/plain": [
              "[1, 2, 3, 6, 7, 8, 12, 23, 34, 78]"
            ]
          },
          "metadata": {},
          "execution_count": 27
        }
      ]
    },
    {
      "cell_type": "code",
      "metadata": {
        "colab": {
          "base_uri": "https://localhost:8080/"
        },
        "id": "qpds5E91_drR",
        "outputId": "6a9bac6b-d4b0-4bef-e539-d32d1aa74995"
      },
      "source": [
        "#Ədədlər arasında rəqəmlərinin cəmi ən böyük olan ədədi tapın\n",
        "#Verilən nums=[1,2,3,6,7,8,23,78,34,12] \n",
        "max(nums)"
      ],
      "execution_count": null,
      "outputs": [
        {
          "output_type": "execute_result",
          "data": {
            "text/plain": [
              "78"
            ]
          },
          "metadata": {},
          "execution_count": 28
        }
      ]
    },
    {
      "cell_type": "code",
      "metadata": {
        "colab": {
          "base_uri": "https://localhost:8080/"
        },
        "id": "okTExOjPN808",
        "outputId": "4c1174d0-525e-4d13-e6c9-700049dc3239"
      },
      "source": [
        "#Ədədlərin kvadratlarının olduğu yeni bir massiv yaradan metod yazın\n",
        "#Verilən nums=[1,2,3,6,7,8,23,78,34,12] \n",
        "nums = [n**2 for n in  [1,2,3,6,7,8,23,78,34,12]] #squares\n",
        "nums"
      ],
      "execution_count": null,
      "outputs": [
        {
          "output_type": "execute_result",
          "data": {
            "text/plain": [
              "[1, 4, 9, 36, 49, 64, 529, 6084, 1156, 144]"
            ]
          },
          "metadata": {},
          "execution_count": 29
        }
      ]
    },
    {
      "cell_type": "code",
      "metadata": {
        "colab": {
          "base_uri": "https://localhost:8080/"
        },
        "id": "4I9JnkqjOGAE",
        "outputId": "3d5921f5-547b-4be1-ad50-90b1d1a3ae44"
      },
      "source": [
        "#Tək ədədlərin cəmini tapan metod yazın\n",
        "#nums=[1,2,3,6,7,8,23,78,34,12]\n",
        "\n",
        "x=[1,2,3,6,7,8,23,78,34,12] \n",
        "def tək_ədəd(l): \n",
        "\ty=[item for item in l if item%2!=0] \n",
        "\tif len(y)>0: \n",
        "\t\tprint(sum(y)) \n",
        "\telse: \n",
        "\t\tprint(0) \n",
        "tək_ədəd(x) "
      ],
      "execution_count": null,
      "outputs": [
        {
          "output_type": "stream",
          "name": "stdout",
          "text": [
            "34\n"
          ]
        }
      ]
    },
    {
      "cell_type": "code",
      "metadata": {
        "colab": {
          "base_uri": "https://localhost:8080/"
        },
        "id": "YUs8BPbwQBrt",
        "outputId": "22770d26-c54b-4495-fc2d-85d40c2f66fd"
      },
      "source": [
        "#Tək ədədləri ayıraraq ayrıca bir massivə yığan metod yazın \n",
        "#nums=[1,2,3,6,7,8,23,78,34,12]\n",
        "\n",
        "nums=[1,2,3,6,7,8,23,78,34,12]\n",
        "m = []\n",
        "for i in nums:\n",
        "  if i % 2 != 0:\n",
        "      m.append(i)\n",
        "print(m)"
      ],
      "execution_count": null,
      "outputs": [
        {
          "output_type": "stream",
          "name": "stdout",
          "text": [
            "[1, 3, 7, 23]\n"
          ]
        }
      ]
    },
    {
      "cell_type": "code",
      "metadata": {
        "colab": {
          "base_uri": "https://localhost:8080/"
        },
        "id": "WT2zD1KpOPcF",
        "outputId": "c2f3d680-0625-49c9-920a-48eb46db9a66"
      },
      "source": [
        "#Daxilində 3 rəqəmi olan neçə ədəd olduğunu ekrana çap edən metod yazın\n",
        "#nums=[1,2,3,6,7,8,23,78,34,12]\n",
        "\n",
        "def find(nums):\n",
        "    count_of_3 = 0\n",
        "    for i in nums:\n",
        "        while i > 0:\n",
        "            if i % 10 == 3:\n",
        "                count_of_3 += 1\n",
        "                break\n",
        "            i = i // 10\n",
        "\n",
        "    return count_of_3\n",
        "\n",
        "\n",
        "print(find([1, 2, 3, 4, 23, 78, 34, 12]))"
      ],
      "execution_count": null,
      "outputs": [
        {
          "output_type": "stream",
          "name": "stdout",
          "text": [
            "3\n"
          ]
        }
      ]
    },
    {
      "cell_type": "code",
      "metadata": {
        "id": "F-vX-AEnQh09"
      },
      "source": [
        ""
      ],
      "execution_count": null,
      "outputs": []
    }
  ]
}